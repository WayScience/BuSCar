{
    "cells": [
        {
            "cell_type": "markdown",
            "id": "f14772b4",
            "metadata": {},
            "source": [
                "# Download CPJUMP1 Data\n",
                "\n",
                "This notebook documents the workflow for downloading and processing data from the JUMP Cell Painting dataset, available in the Cell Painting Gallery.\n",
                "\n",
                "We focus on datasets where cells have been perturbed by overexpression of genes using open reading frame (ORF) vectors, which artificially increase the production of specific proteins.\n",
                "\n",
                "Key steps in this workflow:\n",
                "- Load configuration and metadata from a YAML file.\n",
                "- Filter experimental metadata to include only plates with ORF perturbations.\n",
                "- Download each plate's data as a CSV file, convert it to Parquet format, and save it in the `./data` directory.\n",
                "\n",
                "Each individual plate data file is saved as a `parquet` file in the `./data` folder. If a file with the same name already exists, it will be replaced with the newly downloaded data."
            ]
        },
        {
            "cell_type": "code",
            "execution_count": 1,
            "id": "7748e2b0",
            "metadata": {},
            "outputs": [],
            "source": [
                "import sys\n",
                "import pathlib\n",
                "import polars\n",
                "import time\n",
                "import tqdm\n",
                "\n",
                "sys.path.append(\"../../\")\n",
                "from utils import io_utils"
            ]
        },
        {
            "cell_type": "code",
            "execution_count": 2,
            "id": "b7381913",
            "metadata": {},
            "outputs": [],
            "source": [
                "# setting config path\n",
                "config_path = pathlib.Path(\"../nb-configs.yaml\").resolve(strict=True)\n",
                "\n",
                "# setting results setting a data directory\n",
                "data_dir = pathlib.Path(\"./data\").resolve()\n",
                "data_dir.mkdir(exist_ok=True)\n",
                "\n",
                "# setting a path to save the experimental metadata\n",
                "exp_metadata_path = (data_dir / \"CPJUMP1-experimental-metadata.csv\").resolve()"
            ]
        },
        {
            "cell_type": "code",
            "execution_count": 3,
            "id": "5b8bfe5f",
            "metadata": {},
            "outputs": [
                {
                    "data": {
                        "text/html": [
                            "<div><style>\n",
                            ".dataframe > thead > tr,\n",
                            ".dataframe > tbody > tr {\n",
                            "  text-align: right;\n",
                            "  white-space: pre-wrap;\n",
                            "}\n",
                            "</style>\n",
                            "<small>shape: (5, 13)</small><table border=\"1\" class=\"dataframe\"><thead><tr><th>Batch</th><th>Plate_Map_Name</th><th>Assay_Plate_Barcode</th><th>Perturbation</th><th>Cell_type</th><th>Time</th><th>Density</th><th>Antibiotics</th><th>Cell_line</th><th>Time_delay</th><th>Times_imaged</th><th>Anomaly</th><th>Number_of_images</th></tr><tr><td>str</td><td>str</td><td>str</td><td>str</td><td>str</td><td>i64</td><td>i64</td><td>str</td><td>str</td><td>str</td><td>i64</td><td>str</td><td>i64</td></tr></thead><tbody><tr><td>&quot;2020_11_04_CPJUMP1&quot;</td><td>&quot;JUMP-Target-1_orf_platemap&quot;</td><td>&quot;BR00117006&quot;</td><td>&quot;orf&quot;</td><td>&quot;A549&quot;</td><td>96</td><td>100</td><td>&quot;absent&quot;</td><td>&quot;Parental&quot;</td><td>&quot;Day0&quot;</td><td>1</td><td>&quot;Phalloidin&quot;</td><td>27648</td></tr><tr><td>&quot;2020_11_04_CPJUMP1&quot;</td><td>&quot;JUMP-Target-1_orf_platemap&quot;</td><td>&quot;BR00117020&quot;</td><td>&quot;orf&quot;</td><td>&quot;A549&quot;</td><td>48</td><td>100</td><td>&quot;absent&quot;</td><td>&quot;Parental&quot;</td><td>&quot;Day0&quot;</td><td>1</td><td>&quot;none&quot;</td><td>27648</td></tr><tr><td>&quot;2020_11_04_CPJUMP1&quot;</td><td>&quot;JUMP-Target-1_orf_platemap&quot;</td><td>&quot;BR00117021&quot;</td><td>&quot;orf&quot;</td><td>&quot;A549&quot;</td><td>48</td><td>100</td><td>&quot;absent&quot;</td><td>&quot;Parental&quot;</td><td>&quot;Day0&quot;</td><td>1</td><td>&quot;none&quot;</td><td>27648</td></tr><tr><td>&quot;2020_11_04_CPJUMP1&quot;</td><td>&quot;JUMP-Target-1_orf_platemap&quot;</td><td>&quot;BR00117022&quot;</td><td>&quot;orf&quot;</td><td>&quot;U2OS&quot;</td><td>48</td><td>100</td><td>&quot;absent&quot;</td><td>&quot;Parental&quot;</td><td>&quot;Day0&quot;</td><td>1</td><td>&quot;none&quot;</td><td>27648</td></tr><tr><td>&quot;2020_11_04_CPJUMP1&quot;</td><td>&quot;JUMP-Target-1_orf_platemap&quot;</td><td>&quot;BR00117023&quot;</td><td>&quot;orf&quot;</td><td>&quot;U2OS&quot;</td><td>48</td><td>100</td><td>&quot;absent&quot;</td><td>&quot;Parental&quot;</td><td>&quot;Day0&quot;</td><td>1</td><td>&quot;none&quot;</td><td>27648</td></tr></tbody></table></div>"
                        ],
                        "text/plain": [
                            "shape: (5, 13)\n",
                            "┌───────────┬───────────┬───────────┬───────────┬───┬───────────┬───────────┬───────────┬──────────┐\n",
                            "│ Batch     ┆ Plate_Map ┆ Assay_Pla ┆ Perturbat ┆ … ┆ Time_dela ┆ Times_ima ┆ Anomaly   ┆ Number_o │\n",
                            "│ ---       ┆ _Name     ┆ te_Barcod ┆ ion       ┆   ┆ y         ┆ ged       ┆ ---       ┆ f_images │\n",
                            "│ str       ┆ ---       ┆ e         ┆ ---       ┆   ┆ ---       ┆ ---       ┆ str       ┆ ---      │\n",
                            "│           ┆ str       ┆ ---       ┆ str       ┆   ┆ str       ┆ i64       ┆           ┆ i64      │\n",
                            "│           ┆           ┆ str       ┆           ┆   ┆           ┆           ┆           ┆          │\n",
                            "╞═══════════╪═══════════╪═══════════╪═══════════╪═══╪═══════════╪═══════════╪═══════════╪══════════╡\n",
                            "│ 2020_11_0 ┆ JUMP-Targ ┆ BR0011700 ┆ orf       ┆ … ┆ Day0      ┆ 1         ┆ Phalloidi ┆ 27648    │\n",
                            "│ 4_CPJUMP1 ┆ et-1_orf_ ┆ 6         ┆           ┆   ┆           ┆           ┆ n         ┆          │\n",
                            "│           ┆ platemap  ┆           ┆           ┆   ┆           ┆           ┆           ┆          │\n",
                            "│ 2020_11_0 ┆ JUMP-Targ ┆ BR0011702 ┆ orf       ┆ … ┆ Day0      ┆ 1         ┆ none      ┆ 27648    │\n",
                            "│ 4_CPJUMP1 ┆ et-1_orf_ ┆ 0         ┆           ┆   ┆           ┆           ┆           ┆          │\n",
                            "│           ┆ platemap  ┆           ┆           ┆   ┆           ┆           ┆           ┆          │\n",
                            "│ 2020_11_0 ┆ JUMP-Targ ┆ BR0011702 ┆ orf       ┆ … ┆ Day0      ┆ 1         ┆ none      ┆ 27648    │\n",
                            "│ 4_CPJUMP1 ┆ et-1_orf_ ┆ 1         ┆           ┆   ┆           ┆           ┆           ┆          │\n",
                            "│           ┆ platemap  ┆           ┆           ┆   ┆           ┆           ┆           ┆          │\n",
                            "│ 2020_11_0 ┆ JUMP-Targ ┆ BR0011702 ┆ orf       ┆ … ┆ Day0      ┆ 1         ┆ none      ┆ 27648    │\n",
                            "│ 4_CPJUMP1 ┆ et-1_orf_ ┆ 2         ┆           ┆   ┆           ┆           ┆           ┆          │\n",
                            "│           ┆ platemap  ┆           ┆           ┆   ┆           ┆           ┆           ┆          │\n",
                            "│ 2020_11_0 ┆ JUMP-Targ ┆ BR0011702 ┆ orf       ┆ … ┆ Day0      ┆ 1         ┆ none      ┆ 27648    │\n",
                            "│ 4_CPJUMP1 ┆ et-1_orf_ ┆ 3         ┆           ┆   ┆           ┆           ┆           ┆          │\n",
                            "│           ┆ platemap  ┆           ┆           ┆   ┆           ┆           ┆           ┆          │\n",
                            "└───────────┴───────────┴───────────┴───────────┴───┴───────────┴───────────┴───────────┴──────────┘"
                        ]
                    },
                    "execution_count": 3,
                    "metadata": {},
                    "output_type": "execute_result"
                }
            ],
            "source": [
                "# loading config file and setting experimental metadata URL\n",
                "nb_configs = io_utils.load_configs(config_path)\n",
                "CPJUMP1_exp_metadata_url = nb_configs[\"links\"][\"CPJUMP1-experimental-metadata-source\"]\n",
                "\n",
                "# read in the experimental metadata CSV file and only filter down to plays that\n",
                "# have an ORF perturbation\n",
                "exp_metadata = polars.read_csv(\n",
                "    CPJUMP1_exp_metadata_url, separator=\"\\t\", has_header=True, encoding=\"utf-8\"\n",
                ")\n",
                "\n",
                "# filtering the metadata to only includes plates that their perturbation types are orfs\n",
                "exp_metadata = exp_metadata.filter(exp_metadata[\"Perturbation\"].str.contains(\"orf\"))\n",
                "\n",
                "# save the experimental metadata as a csv file\n",
                "exp_metadata.write_csv(exp_metadata_path)\n",
                "\n",
                "# display\n",
                "exp_metadata.head()"
            ]
        },
        {
            "cell_type": "code",
            "execution_count": 4,
            "id": "b32cb07e",
            "metadata": {},
            "outputs": [
                {
                    "name": "stderr",
                    "output_type": "stream",
                    "text": [
                        "Downloading plates: 100%|██████████| 43/43 [03:35<00:00,  5.01s/it]\n"
                    ]
                }
            ],
            "source": [
                "# setting CPJUMP1 source link, this points to the main directory where all the plate data\n",
                "# is stored\n",
                "header_link = nb_configs[\"links\"][\"CPJUMP1-source\"]\n",
                "\n",
                "# create a for loop with progress bar for downloading plate data\n",
                "for plate in tqdm.tqdm(\n",
                "    exp_metadata[\"Assay_Plate_Barcode\"].to_list(), desc=\"Downloading plates\"\n",
                "):\n",
                "    # constructing the plate data source URL\n",
                "    plate_data_source = f\"{header_link}/{plate}/{plate}_normalized_negcon.csv.gz\"\n",
                "\n",
                "    # reading the plate data from the source URL\n",
                "    orf_plate_df = polars.read_csv(plate_data_source, separator=\",\", has_header=True)\n",
                "\n",
                "    # saving the plate data to a parquet file\n",
                "    orf_plate_df.write_parquet(data_dir / f\"{plate}_normalized_negcon.parquet\")\n",
                "\n",
                "    # sleep to avoid overwhelming the AWS hosting the data\n",
                "    time.sleep(1)"
            ]
        }
    ],
    "metadata": {
        "kernelspec": {
            "display_name": "sc-hit",
            "language": "python",
            "name": "python3"
        },
        "language_info": {
            "codemirror_mode": {
                "name": "ipython",
                "version": 3
            },
            "file_extension": ".py",
            "mimetype": "text/x-python",
            "name": "python",
            "nbconvert_exporter": "python",
            "pygments_lexer": "ipython3",
            "version": "3.12.11"
        }
    },
    "nbformat": 4,
    "nbformat_minor": 5
}
